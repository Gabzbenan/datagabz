{
  "cells": [
    {
      "cell_type": "markdown",
      "metadata": {
        "id": "view-in-github",
        "colab_type": "text"
      },
      "source": [
        "<a href=\"https://colab.research.google.com/github/Gabzbenan/gaba/blob/main/Project_1.ipynb\" target=\"_parent\"><img src=\"https://colab.research.google.com/assets/colab-badge.svg\" alt=\"Open In Colab\"/></a>"
      ]
    },
    {
      "cell_type": "code",
      "execution_count": null,
      "metadata": {
        "id": "AC0QVvIezAYk"
      },
      "outputs": [],
      "source": []
    },
    {
      "cell_type": "code",
      "execution_count": 48,
      "metadata": {
        "colab": {
          "base_uri": "https://localhost:8080/"
        },
        "id": "kdMSRWX0zFMl",
        "outputId": "8f2b3e3b-dc8e-4491-fb11-1703c9461ccf"
      },
      "outputs": [
        {
          "output_type": "stream",
          "name": "stdout",
          "text": [
            "[[32415, ['mike', 'reed'], 32, ['ELECTRONICS', 'SPORT', 'BOOKS'], [894, 213, 173]], [31980, ['kate', 'morgan'], 24, ['CLOTHES', 'BOOKS'], [439, 390]], [32156, ['john', 'doe'], 37, ['ELECTRONICS', 'HOME', 'FOOD'], [459, 120, 99]], [32761, ['SAMANTHA', 'SMITH'], 29, ['CLOTHES', 'ELECTRONICS', 'BEAUTY'], [299, 679, 85]], [32984, ['David', 'White'], 41, ['BOOKS', 'HOME', 'SPORT'], [234, 329, 243]], [33001, ['emily', 'brown'], 26, ['BEAUTY', 'HOME', 'FOOD'], [213, 659, 79]], [33767, ['Maria', 'Garcia'], 33, ['CLOTHES', 'FOOD', 'BEAUTY'], [499, 189, 63]], [33912, ['JOSE', 'MARTINEZ'], 22, ['SPORT', 'ELECTRONICS', 'HOME'], [259, 549, 109]], [34009, ['lisa', 'wilson'], 35, ['HOME', 'BOOKS', 'CLOTHES'], [329, 189, 329]], [34278, ['James', 'Lee'], 28, ['BEAUTY', 'CLOTHES', 'ELECTRONICS'], [189, 299, 579]]]\n",
            "[[31980, ['kate', 'morgan'], 24, ['CLOTHES', 'BOOKS'], [439, 390]], [32156, ['john', 'doe'], 37, ['ELECTRONICS', 'HOME', 'FOOD'], [459, 120, 99]], [32415, ['mike', 'reed'], 32, ['ELECTRONICS', 'SPORT', 'BOOKS'], [894, 213, 173]], [32761, ['SAMANTHA', 'SMITH'], 29, ['CLOTHES', 'ELECTRONICS', 'BEAUTY'], [299, 679, 85]], [32984, ['David', 'White'], 41, ['BOOKS', 'HOME', 'SPORT'], [234, 329, 243]], [33001, ['emily', 'brown'], 26, ['BEAUTY', 'HOME', 'FOOD'], [213, 659, 79]], [33767, ['Maria', 'Garcia'], 33, ['CLOTHES', 'FOOD', 'BEAUTY'], [499, 189, 63]], [33912, ['JOSE', 'MARTINEZ'], 22, ['SPORT', 'ELECTRONICS', 'HOME'], [259, 549, 109]], [34009, ['lisa', 'wilson'], 35, ['HOME', 'BOOKS', 'CLOTHES'], [329, 189, 329]], [34278, ['James', 'Lee'], 28, ['BEAUTY', 'CLOTHES', 'ELECTRONICS'], [189, 299, 579]]]\n",
            "829\n",
            "678\n",
            "1280\n",
            "1063\n",
            "806\n",
            "951\n",
            "751\n",
            "917\n",
            "847\n",
            "1067\n",
            "User 31980 is kate who is 24 years old..\n",
            "User 32156 is john who is 37 years old..\n",
            "User 32415 is mike who is 32 years old..\n",
            "User 32761 is SAMANTHA who is 29 years old..\n",
            "User 32984 is David who is 41 years old..\n",
            "User 33001 is emily who is 26 years old..\n",
            "User 33767 is Maria who is 33 years old..\n",
            "User 33912 is JOSE who is 22 years old..\n",
            "User 34009 is lisa who is 35 years old..\n",
            "User 34278 is James who is 28 years old..\n",
            "We have registered data on 10 clients.\n"
          ]
        }
      ],
      "source": [
        "from distutils.log import error\n",
        "\n",
        "encabezados = ['user_id', 'user_name', 'user_age', 'fav_categories', 'total_spendings']\n",
        "users = [\n",
        "    ['32415', ' mike_reed ', 32.0, ['ELECTRONICS', 'SPORT', 'BOOKS'], [894, 213, 173]],\n",
        "    ['31980', 'kate morgan', 24.0, ['CLOTHES', 'BOOKS'], [439, 390]],\n",
        "    ['32156', ' john doe ', 37.0, ['ELECTRONICS', 'HOME', 'FOOD'], [459, 120, 99]],\n",
        "    ['32761', 'SAMANTHA SMITH', 29.0, ['CLOTHES', 'ELECTRONICS', 'BEAUTY'], [299, 679, 85]],\n",
        "    ['32984', 'David White', 41.0, ['BOOKS', 'HOME', 'SPORT'], [234, 329, 243]],\n",
        "    ['33001', 'emily brown', 26.0, ['BEAUTY', 'HOME', 'FOOD'], [213, 659, 79]],\n",
        "    ['33767', ' Maria Garcia', 33.0, ['CLOTHES', 'FOOD', 'BEAUTY'], [499, 189, 63]],\n",
        "    ['33912', 'JOSE MARTINEZ', 22.0, ['SPORT', 'ELECTRONICS', 'HOME'], [259, 549, 109]],\n",
        "    ['34009', 'lisa wilson ', 35.0, ['HOME', 'BOOKS', 'CLOTHES'], [329, 189, 329]],\n",
        "    ['34278', 'James Lee', 28.0, ['BEAUTY', 'CLOTHES', 'ELECTRONICS'], [189, 299, 579]],\n",
        "]\n",
        "\n",
        "#print(users)\n",
        "user_temp = []\n",
        "for user in users:\n",
        "    #Paso 1\n",
        "    #1. Se debe cambiar el tipo de dato de user_id de cadena a entero.\n",
        "    #2. La variable user_name contiene una cadena que tiene espacios innecesarios y un guion bajo entre el nombre y el apellido.\n",
        "    #3. El tipo de dato de user_age es correcto y no hay necesidad de convertirlo.\n",
        "    #4. La lista fav_categories contiene cadenas en mayúsculas. En lugar de ello, debemos convertir los valores de la lista en minúsculas.\n",
        "    #RESPUESTA: Si se deben realizar las opciones 1,2 ya que se necesita limpiar la data y homologar, si no va ser dificil cuantificar. La opción 3 hay que convertirlo de un float a int para tener estadistica y el punto 4 igual mejor homologar entre minusculas y mayusculas.\n",
        "    #Mientras más homogenea esten los datos de cada columna será más fácil manejarla\n",
        "    user_id = int(user[0])\n",
        "    #Paso 2 y 3\n",
        "    user_name = user[1].replace(\"_\",\" \")\n",
        "    user_name1 = user_name.strip()\n",
        "    user_name2 = user_name1.split()\n",
        "    fav_categories = user[3]\n",
        "    total_spendings = user[4]\n",
        "    #Paso 4 y 5\n",
        "    try:\n",
        "        user_age = int(user[2])\n",
        "    except error:\n",
        "        print(\"Please provide your age as a numerical value.\")\n",
        "    matriz = [ ]\n",
        "    matriz.append(user_id)\n",
        "    matriz.append(user_name2)\n",
        "    matriz.append(user_age)\n",
        "    matriz.append(fav_categories)\n",
        "    matriz.append(total_spendings)\n",
        "    user_temp.append(matriz)\n",
        "\n",
        "    #Paso 6\n",
        "print(user_temp)\n",
        "user_temp.sort()\n",
        "print(user_temp)\n",
        "\n",
        "  #Paso 7\n",
        "for sucategory in user_temp:\n",
        "  spendings_per_category = sucategory[4]\n",
        "  total_amount = sum(spendings_per_category)\n",
        "  print(total_amount)\n",
        "\n",
        "  #Paso 8\n",
        "for user_info in user_temp:\n",
        "    user_id = user_info[0]\n",
        "    user_name = user_info[1][0]\n",
        "    user_age = user_info[2]\n",
        "    #user_info = \"User \"+ str(user_id) + \"is \" + str(user_name1) + \"who is \" + str(user_age) + \"years old..\"\n",
        "    user_info = \"User {} is {} who is {} years old..\".format(user_id, user_name, user_age)\n",
        "  #Paso 10\n",
        "    print(user_info)\n",
        "\n",
        "  #Paso 9\n",
        "#Contador de filas\n",
        "num_filas = len(user_temp)\n",
        "texto_num_filas = \"We have registered data on {} clients.\".format(num_filas)\n",
        "print(texto_num_filas)\n",
        "\n",
        "\n",
        "\n",
        "\n"
      ]
    },
    {
      "cell_type": "code",
      "execution_count": null,
      "metadata": {
        "id": "40zyoCt71v5B"
      },
      "outputs": [],
      "source": [
        "\n"
      ]
    }
  ],
  "metadata": {
    "colab": {
      "provenance": [],
      "authorship_tag": "ABX9TyNl9hbLA6GXq/0LBvbCFp4S",
      "include_colab_link": true
    },
    "kernelspec": {
      "display_name": "Python 3",
      "name": "python3"
    },
    "language_info": {
      "name": "python"
    }
  },
  "nbformat": 4,
  "nbformat_minor": 0
}